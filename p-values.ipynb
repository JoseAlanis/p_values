{
 "cells": [
  {
   "cell_type": "code",
   "execution_count": 8,
   "metadata": {
    "slideshow": {
     "slide_type": "skip"
    }
   },
   "outputs": [
    {
     "data": {
      "image/png": "[encoded data removed]",
      "text/plain": [
       "<Figure size 540x360 with 1 Axes>"
      ]
     },
     "metadata": {
      "needs_background": "light"
     },
     "output_type": "display_data"
    }
   ],
   "source": [
    "import matplotlib.pyplot as plt\n",
    "import numpy as np\n",
    "\n",
    "import numpy as np\n",
    "\n",
    "# the number of obs.\n",
    "n = 5000\n",
    " # the mean\n",
    "mu = 50.0\n",
    "# the variance and standard deviation\n",
    "sigma_sq = 100\n",
    "sigma = np.sqrt(sigma_sq)\n",
    "\n",
    "# generate the data\n",
    "data = np.random.normal(mu, sigma, n)\n",
    "\n",
    "# creathe distribution plot\n",
    "fig, ax = plt.subplots(figsize = (7.5, 5))\n",
    "hx, hy, _ = plt.hist(data, bins = 50, \n",
    "                     color = \"lightblue\", \n",
    "                     edgecolor='k')\n",
    "ax.set_title(r'Performance memory test ($\\mu = %s, \\sigma^2 = %s, n = %s$)' % (mu, sigma_sq, n), \n",
    "             size=16.0, pad=15.0)\n",
    "ax.set_ylabel('Frequency', \n",
    "             fontsize=16.0, labelpad=10)\n",
    "ax.set_xlabel('Test Value', \n",
    "             fontsize=16.0, labelpad=10)\n",
    "ax.tick_params(axis='both', which='major', labelsize=14)\n",
    "\n",
    "plt.ylim(0.0,max(hx) + 0.05)\n",
    "plt.title(r'Distribution of performance ($\\mu = 50, \\sigma^2 = 100, n = %s$)' % n)\n",
    "plt.grid(alpha = 0.25)\n",
    "\n",
    "plt.savefig(\"./images/numpy_random_numbers_normal_distribution.png\", bbox_inches = 'tight', dpi=600)\n",
    "plt.show()"
   ]
  },
  {
   "cell_type": "code",
   "execution_count": null,
   "metadata": {
    "slideshow": {
     "slide_type": "skip"
    }
   },
   "outputs": [],
   "source": [
    "import seaborn as sns\n",
    "from scipy.stats import norm, gaussian_kde\n",
    "\n",
    "data = np.random.normal(mu, sigma, 5000)\n",
    "\n",
    "fig, ax = plt.subplots(figsize = (8, 5))\n",
    "points = sns.kdeplot(data, lw=2).get_lines()[0].get_data()\n",
    "x = points[0]\n",
    "y = points[1]\n",
    "ax.fill_between(x, y, where = x >= 69.5, color='r')\n",
    "ax.axvline(69.5, color='r')\n",
    "ax.text(x=69.5,\n",
    "        y=0.025,\n",
    "        s='69.5',\n",
    "        fontdict=dict(fontsize=16),\n",
    "        verticalalignment='top',\n",
    "        bbox=dict(boxstyle='round', facecolor='white', alpha=1.0))\n",
    "ax.set_title('Probabilty distribution of memory performance values', \n",
    "             size=16.0, pad=15.0)\n",
    "ax.set_ylabel('Density', \n",
    "             fontsize=16.0, labelpad=10)\n",
    "ax.tick_params(axis='both', which='major', labelsize=16)\n",
    "plt.savefig(\"./images/density_memory.png\", bbox_inches='tight', dpi=600)\n",
    "plt.show()"
   ]
  },
  {
   "cell_type": "markdown",
   "metadata": {
    "slideshow": {
     "slide_type": "slide"
    }
   },
   "source": [
    "# Introduction to statistical thinking and empirical research methods\n",
    "### Department of Psychology - Winter Term 2021/2022    \n",
    "\n",
    "\n",
    "### Block 2: Hypothesis Testing, P-Values\n",
    "\n",
    "[José C. García Alanis (he/him)](https://github.com/JoseAlanis)\n",
    "<br>\n",
    "Research Fellow - [Dep. of Psychology](https://www.uni-marburg.de/en/fb04/department) at [Uni Marburg](https://www.uni-marburg.de/en).\n",
    "<br>\n",
    "Affiliated - [Child and Adolescent Psychology](https://www.uni-marburg.de/en/fb04/workgroups/pediatric-and-adolescent-psychology), [RTG Breaking Expectations](https://www.uni-marburg.de/en/fb04/rtg-2271).\n",
    "<br>\n",
    "\n",
    "31/05/2021\n",
    "\n",
    "<img align=\"left\" src=\"https://raw.githubusercontent.com/G0RELLA/gorella_mwn/master/lecture/static/GitHub-Mark-120px-plus.png\" alt=\"logo\" title=\"Github\" width=\"30\" height=\"10\" /> \n",
    "\n",
    "<img align=\"right\" src=\"./images/pdf_x_95.png\" alt=\"logo\"  title=\"pdf_x\" width=\"550\" height=\"500\" />\n",
    "\n",
    "\n",
    "&nbsp;&nbsp;@JoseAlanis "
   ]
  },
  {
   "cell_type": "markdown",
   "metadata": {
    "slideshow": {
     "slide_type": "slide"
    }
   },
   "source": [
    "### Before we get started ...\n",
    "<br>\n",
    "\n",
    "- Rember that you can follow the lecture by dowloading the corresponding jupyter notebook (slides) from the online repository on [GitHub](https://github.com/JoseAlanis/p_values).\n",
    "<br>\n",
    "<br>\n",
    "- For more (complementary) information you can check the literature for this lecture:\n",
    "    - In German: \n",
    "       - **Chapter 8**, Gollwitzer, M., Eid, M., & Schmitt, M. (2013). Statistik und Forschungsmethoden. (library)\n",
    "    - Additional materials in English: \n",
    "       - Russell A. Poldrack's GitBook: [Statistical Thinking for the 21st Century.](https://statsthinking21.github.io/statsthinking21-core-site/hypothesis-testing.html)\n"
   ]
  },
  {
   "cell_type": "markdown",
   "metadata": {
    "slideshow": {
     "slide_type": "slide"
    }
   },
   "source": [
    "### Lecture goals ❗\n",
    "\n",
    "- You know why **randomness plays a role in statistical decision making**. \n",
    "- You **understand** the concept of **hypothesis testing**.\n",
    "- You are able explain what **\"significance\"** means.\n",
    "- You have an idea of what **P-values** are (and, ideally, what they're not).\n",
    "- You can relate this knowledge to **real world examples**."
   ]
  },
  {
   "cell_type": "markdown",
   "metadata": {
    "slideshow": {
     "slide_type": "slide"
    }
   },
   "source": [
    "### What we know so far ...\n",
    "\n",
    "$$X \\sim N(\\mu, \\sigma^2)$$\n",
    "\n",
    "$$X - the\\:variable$$\n",
    "$$\\mu - the\\:mean$$\n",
    "$$\\sigma^2 - the\\:variance$$\n",
    "\n",
    "- The distribution of a variable *X*: \n",
    "   - Shows information about the possible values of *X*. \n",
    "      - Tells us which values are typical, which are rare, and which are (seamingly) impossible. \n",
    "      - Reveals the “best guess” for predicting future values, as well as how certain (or uncertain) that guess may be. \n",
    "      - Show the “boundary” conditions on a variable’s values.   \n"
   ]
  },
  {
   "cell_type": "markdown",
   "metadata": {
    "slideshow": {
     "slide_type": "slide"
    }
   },
   "source": [
    "### Working example\n",
    "\n",
    "> **P. 191**  Gollwitzer, M., Eid, M., & Schmitt, M. (2013).    \n",
    "\n",
    "- Testing a difference of means.\n",
    "<br>\n",
    "<br>\n",
    "- A psychologist runs an experiment to test the effects of a promising memory training on individuals memory performance.\n",
    "   - Assessment of memory performance in the general population.\n",
    "      - mean = 50, variance = 100.\n",
    "\n",
    "$$X \\sim N(50, 100)$$\n",
    "\n",
    "<center><img src=\"./images/numpy_random_numbers_normal_distribution.png\" width=\"550\" height=\"500\"/></center>"
   ]
  },
  {
   "cell_type": "markdown",
   "metadata": {
    "slideshow": {
     "slide_type": "subslide"
    }
   },
   "source": [
    "### Working example\n",
    "\n",
    "> **P. 191**  Gollwitzer, M., Eid, M., & Schmitt, M. (2013).   \n",
    "\n",
    "- Next, the psychologist selects a group of subjects, trains them with the promising training, and re-tests their memory performance.\n",
    "- Result:\n",
    "\n",
    "$$\\bar{x} = 58, \\mu = 50$$\n",
    "\n",
    "$$\\bar{x} \\neq \\mu $$\n",
    "\n",
    "- Conclusion:\n",
    "   - 58 > 50\n",
    "   - But, does that mean that the training is effective? \n",
    "   - Does the training (systematically) increase memory performance."
   ]
  },
  {
   "cell_type": "markdown",
   "metadata": {
    "slideshow": {
     "slide_type": "fragment"
    }
   },
   "source": [
    "   - 🤓 not necessarily ...\n",
    "   - ... why?"
   ]
  },
  {
   "cell_type": "markdown",
   "metadata": {
    "slideshow": {
     "slide_type": "slide"
    }
   },
   "source": [
    "### Working example\n",
    "\n",
    "> **P. 191**  Gollwitzer, M., Eid, M., & Schmitt, M. (2013).   \n",
    "\n",
    "- Let's simulate the experiment"
   ]
  },
  {
   "cell_type": "code",
   "execution_count": 13,
   "metadata": {
    "slideshow": {
     "slide_type": "fragment"
    }
   },
   "outputs": [],
   "source": [
    "import numpy as np\n",
    "\n",
    "# the number of obs. (5000 people)\n",
    "n = 5000\n",
    " # the mean\n",
    "mu = 50.0\n",
    "# the variance and standard deviation\n",
    "sigma_sq = 100\n",
    "sigma = np.sqrt(sigma_sq)\n",
    "\n",
    "# generate the data\n",
    "data = np.random.normal(mu, sigma, n)"
   ]
  },
  {
   "cell_type": "code",
   "execution_count": 14,
   "metadata": {
    "slideshow": {
     "slide_type": "subslide"
    }
   },
   "outputs": [
    {
     "data": {
      "text/plain": [
       "85.76871357638996"
      ]
     },
     "execution_count": 14,
     "metadata": {},
     "output_type": "execute_result"
    }
   ],
   "source": [
    "# lets get the sample characteristics\n",
    "\n",
    "# max or min\n",
    "data.max()"
   ]
  },
  {
   "cell_type": "code",
   "execution_count": 15,
   "metadata": {
    "slideshow": {
     "slide_type": "fragment"
    }
   },
   "outputs": [
    {
     "data": {
      "text/plain": [
       "50.10144883549437"
      ]
     },
     "execution_count": 15,
     "metadata": {},
     "output_type": "execute_result"
    }
   ],
   "source": [
    "# the mean\n",
    "data.mean()"
   ]
  },
  {
   "cell_type": "code",
   "execution_count": 16,
   "metadata": {},
   "outputs": [
    {
     "data": {
      "text/plain": [
       "10.055883474027434"
      ]
     },
     "execution_count": 16,
     "metadata": {},
     "output_type": "execute_result"
    }
   ],
   "source": [
    "# the standard dev.\n",
    "data.std()"
   ]
  },
  {
   "cell_type": "code",
   "execution_count": 4,
   "metadata": {
    "scrolled": true,
    "slideshow": {
     "slide_type": "subslide"
    }
   },
   "outputs": [
    {
     "data": {
      "image/png": "[encoded data removed]",
      "text/plain": [
       "<Figure size 576x576 with 1 Axes>"
      ]
     },
     "metadata": {
      "needs_background": "light"
     },
     "output_type": "display_data"
    }
   ],
   "source": [
    "import matplotlib.pyplot as plt\n",
    "\n",
    "fig, ax = plt.subplots(figsize=(8, 8))\n",
    "ax.set_title('Basic plot', size=16.0, pad=15.0)\n",
    "ax.tick_params(axis='both', which='major', labelsize=14)\n",
    "\n",
    "_ = ax.boxplot(data)"
   ]
  },
  {
   "cell_type": "code",
   "execution_count": 5,
   "metadata": {
    "slideshow": {
     "slide_type": "subslide"
    }
   },
   "outputs": [
    {
     "name": "stdout",
     "output_type": "stream",
     "text": [
      "Exp.  1  (n= 5)  mean = 50.49\n",
      "Exp.  2  (n=10)  mean = 46.33\n",
      "Exp.  3  (n=15)  mean = 50.78\n",
      "Exp.  4  (n=20)  mean = 49.17\n",
      "Exp.  5  (n=25)  mean = 50.11\n",
      "Exp.  6  (n=30)  mean = 49.73\n",
      "Exp.  7  (n=35)  mean = 50.17\n",
      "Exp.  8  (n=40)  mean = 48.28\n",
      "Exp.  9  (n=45)  mean = 51.19\n",
      "Exp. 10  (n=50)  mean = 50.54\n"
     ]
    }
   ],
   "source": [
    "# run the experiments\n",
    "for i in np.arange(10):\n",
    "    \n",
    "    # gather observations (5, 10, etc.)\n",
    "    observations = np.random.choice(data, size=(i+1)*5, replace=False)\n",
    "    \n",
    "    \n",
    "    # compute the mean\n",
    "    x_bar = observations.mean()\n",
    "    # round down to 2 decimals\n",
    "    x_bar = np.round(x_bar, 2)\n",
    "    \n",
    "    # return values\n",
    "    print('Exp. %s  (n=%s)  mean = %s' % (str(i+1).rjust(2), str((i+1)*5).rjust(2), x_bar))"
   ]
  },
  {
   "cell_type": "markdown",
   "metadata": {
    "slideshow": {
     "slide_type": "subslide"
    }
   },
   "source": [
    "### Example\n",
    "\n",
    "> **P. 191**  Gollwitzer, M., Eid, M., & Schmitt, M. (2013).   \n",
    "\n",
    "- Result:\n",
    "\n",
    "$$\\bar{x} = 58, \\mu = 50$$\n",
    "\n",
    "$$\\bar{x} \\neq \\mu $$\n",
    "\n",
    "- Conclusion:\n",
    "   - Does the training (systematically) increase memory performance.\n",
    "   - 🤓 not necessarily, memory performace is subject to individual variation, i.e., sample means are (more or less) uncertain estimates."
   ]
  },
  {
   "cell_type": "markdown",
   "metadata": {
    "slideshow": {
     "slide_type": "fragment"
    }
   },
   "source": [
    "- The question is:\n",
    "    - Are the sample statistics are **a product of mere randomness**\n",
    "    - Or is the training responsible for deviations from what we believe is true in the population."
   ]
  },
  {
   "cell_type": "markdown",
   "metadata": {
    "slideshow": {
     "slide_type": "slide"
    }
   },
   "source": [
    "### Hypothesis testing\n",
    "\n",
    "- In the example:\n",
    "   - There is no (real) population of succesfully trained subjects.\n",
    "   - However, we can think about how that population might look like, **hypothetically speaking**."
   ]
  },
  {
   "cell_type": "markdown",
   "metadata": {
    "slideshow": {
     "slide_type": "fragment"
    }
   },
   "source": [
    "- Postulate that:\n",
    "\n",
    "$$untrained, \\mu_{\\:utrP} = 50$$\n",
    "\n",
    "$$trained, \\mu_{\\:trP} > 50$$"
   ]
  },
  {
   "cell_type": "markdown",
   "metadata": {
    "slideshow": {
     "slide_type": "fragment"
    }
   },
   "source": [
    "- ❗ Hypothesis testing helps us decide how likely it is that the observed data (i.e., mean = 58) was sampled from  a population of untrained subjects.\n",
    "   - How big is the risk of making an error and misclassifing the data."
   ]
  },
  {
   "cell_type": "markdown",
   "metadata": {
    "slideshow": {
     "slide_type": "slide"
    }
   },
   "source": [
    "### Hypothesis testing\n",
    "\n",
    "- The **Null Hypothesis** as a reference frame:\n",
    "    - How would the data look like if there was in fact **no effect** of training?\n",
    "        - i.e., imagine a world in which the training has no effect on memory performance. How would the performance of the trainded population be (on average)."
   ]
  },
  {
   "cell_type": "markdown",
   "metadata": {
    "slideshow": {
     "slide_type": "fragment"
    }
   },
   "source": [
    "- e.g.,   \n",
    "    - There is no difference between untrained and trained:\n",
    "$$\\mu_{\\:utrP} = \\mu_{\\:trP}$$\n",
    "    - In short:\n",
    "$$H_{0}: \\mu = \\mu_{\\:0}$$"
   ]
  },
  {
   "cell_type": "markdown",
   "metadata": {
    "slideshow": {
     "slide_type": "fragment"
    }
   },
   "source": [
    "- Null referes to the assumption that, under H0, there is no difference between the means (Null = no effect = zero = \"nada\")\n",
    "- Hypothesis emphasizes that this is an assumtion, and that, in principle, it can be wrong."
   ]
  },
  {
   "cell_type": "markdown",
   "metadata": {
    "slideshow": {
     "slide_type": "slide"
    }
   },
   "source": [
    "### Hypothesis testing\n",
    "\n",
    "- The **Null Hypothesis** as a reference frame:\n",
    "<br>\n",
    "\n",
    "$$H_{0}: \\mu = \\mu_{\\:0}$$\n",
    "\n",
    "- The **Alternative Hypothesis**, our research hypothesis:\n",
    "    - The training has an effect, i.e., people are better after training.\n",
    "<br>\n",
    "\n",
    "$$H_{a}: \\mu > \\mu_{\\:0}$$\n",
    "<br>"
   ]
  },
  {
   "cell_type": "markdown",
   "metadata": {
    "slideshow": {
     "slide_type": "slide"
    }
   },
   "source": [
    "### Hypothesis testing\n",
    "\n",
    "- 🤔 (back to our example)\n",
    "- Experiment to test the effects of a memory training on individuals memory performance."
   ]
  },
  {
   "cell_type": "markdown",
   "metadata": {
    "slideshow": {
     "slide_type": "fragment"
    }
   },
   "source": [
    "- Possible outcomes after training:\n",
    "    - Mean = 58 \n",
    "    - Mean = 62\n",
    "    - Mean = 69.5"
   ]
  },
  {
   "cell_type": "markdown",
   "metadata": {
    "slideshow": {
     "slide_type": "fragment"
    }
   },
   "source": [
    "- How do I know if my data is higher, or **high enough**, to reject the Null Hypothesis (i.e., the hypothesis that there is actually no effect at all).\n",
    "- Where do I draw the line?"
   ]
  },
  {
   "cell_type": "markdown",
   "metadata": {
    "slideshow": {
     "slide_type": "skip"
    }
   },
   "source": [
    "\n",
    "- Remember: We can compute the probability for sample values within a certain range.\n",
    "    - E.g., the sample median shows me: 50% of the data are below this value."
   ]
  },
  {
   "cell_type": "markdown",
   "metadata": {
    "slideshow": {
     "slide_type": "slide"
    }
   },
   "source": [
    "### Throw back to block one (sample statistics)\n",
    "\n",
    "### Levels of confidence\n",
    "\n",
    "\n",
    "- We can define *levels of confidence*:\n",
    "    - E.g., a 95% confidence interval of sample mean:\n",
    "       - \"I am 95% sure, that the true mean lies within this range of values\"\n",
    "           - IQ = 101.53, CI = [96.656, 106.422]\n",
    "           - \"... values above 106.42 and below 96.65 would surprise me.\""
   ]
  },
  {
   "cell_type": "markdown",
   "metadata": {
    "slideshow": {
     "slide_type": "fragment"
    }
   },
   "source": [
    "- Similarly, we can define **significance levels**:\n",
    "    - Usually, the complement of a confidence level *C*, thus\n",
    "    \n",
    "$$1 - 0.95 = 0.05$$"
   ]
  },
  {
   "cell_type": "markdown",
   "metadata": {
    "slideshow": {
     "slide_type": "fragment"
    }
   },
   "source": [
    "- I.e., for a confidence level of 95%, the corresponding significance level would be 5%, and is usually denoted by the greek letter *alpha*\n",
    "\n",
    "$$\\alpha = 1 - c$$\n",
    "\n",
    "- Some commonly used significance levels are 0.05 and 0.01 (i.e., 5% or 1%)"
   ]
  },
  {
   "cell_type": "markdown",
   "metadata": {
    "slideshow": {
     "slide_type": "skip"
    }
   },
   "source": [
    "- For the IQ example, IQ = 101.53, 95% CI = [96.656, 106.422], would mean:\n",
    "    - \"I am 95% sure, that the true mean lies within this range of values [96.656, 106.422] ... \"\n",
    "    - \"... values above 106.42 and below 96.65 would surprise me.\""
   ]
  },
  {
   "cell_type": "markdown",
   "metadata": {
    "slideshow": {
     "slide_type": "slide"
    }
   },
   "source": [
    "### The P-Value\n",
    "\n",
    "- Using Alpha, we can tell whether the a **value after training** is surprisingly higher than the **hypothetical** mean of untrained subjects."
   ]
  },
  {
   "cell_type": "markdown",
   "metadata": {
    "slideshow": {
     "slide_type": "fragment"
    }
   },
   "source": [
    "- Suppose the simplest of all cases:\n",
    "    - We train one person with the promissing memory training and test his/her performance afterwards."
   ]
  },
  {
   "cell_type": "markdown",
   "metadata": {
    "slideshow": {
     "slide_type": "fragment"
    }
   },
   "source": [
    "- We decide, if the resulting value is amongst the highest 5% of the H0 values, then we can be pretty sure that that value does not belong to an untrained person.\n",
    "   - I.e., it is significantly different from the mean of an untrained population."
   ]
  },
  {
   "cell_type": "markdown",
   "metadata": {
    "slideshow": {
     "slide_type": "subslide"
    }
   },
   "source": [
    "### The P-Value\n",
    "\n",
    "- We obtain a value of 69.5 in memory performance.\n",
    "- The image below shows this value, along with the range of values that are higher than that value.\n",
    "- The Y-axis shows the probabily for this event under H0, **the P-value**.\n",
    "\n",
    "$$P(E|H_{0})$$\n",
    "\n",
    "<br>\n",
    "<center><img src=\"./images/density_memory.png\" width=\"550\" height=\"500\"/></center>\n",
    "\n",
    "- I.e., **P-value** is the probability of obtaining a value of 69.5 in a world where the training had no effect (e.g., a sample with a mean equal to that of untrained subjects)."
   ]
  },
  {
   "cell_type": "markdown",
   "metadata": {
    "slideshow": {
     "slide_type": "subslide"
    }
   },
   "source": [
    "### The P-Value\n",
    "\n",
    "<center><img src=\"./images/density_memory.png\" width=\"550\" height=\"500\"/></center>\n",
    "\n",
    "\n",
    "- To find this probability we can transform the test value to a *z-score* using the rule we learned last lecture.\n",
    "\n",
    "$$z = \\frac{ \\text{X} - \\mu} {\\sigma}$$\n",
    "\n",
    "$$z = \\frac{ \\text{69.5} - 50} {10}$$\n",
    "\n",
    "$$z = \\frac{ \\text{69.5} - 50} {10}$$\n",
    "\n",
    "$$z = 1.95$$"
   ]
  },
  {
   "cell_type": "markdown",
   "metadata": {
    "slideshow": {
     "slide_type": "slide"
    }
   },
   "source": [
    "### The P-value\n",
    "\n",
    "- Now we can check what the probability of a value, which is higher than our test value would be in a normally distributed sample.\n",
    "- We can check a [Z-table](http://pages.stat.wisc.edu/~ifischer/Statistical_Tables/Z-distribution.pdf).\n",
    "- Or use python to find the **P-value**:"
   ]
  },
  {
   "cell_type": "code",
   "execution_count": 18,
   "metadata": {
    "slideshow": {
     "slide_type": "fragment"
    }
   },
   "outputs": [
    {
     "name": "stdout",
     "output_type": "stream",
     "text": [
      "The p-value is 0.026\n"
     ]
    }
   ],
   "source": [
    "import scipy.stats\n",
    "\n",
    "# compute p-value from z-score\n",
    "p_value = scipy.stats.norm.sf(abs(1.95))\n",
    "\n",
    "print('The p-value is %s' % np.round(p_value, 3))"
   ]
  },
  {
   "cell_type": "markdown",
   "metadata": {
    "slideshow": {
     "slide_type": "slide"
    }
   },
   "source": [
    "### Hypothesis testing and the P-Value (summary)\n",
    "\n",
    "- ❗ **Hypothesis tests** help us decide whether observed data is significantly different from what is believed to be true (under H0).\n",
    "    - In the example, the **Null-Hypothesis** that there is in fact no effect of trainig (here subjects would have the same mean after and before memory training)."
   ]
  },
  {
   "cell_type": "markdown",
   "metadata": {
    "slideshow": {
     "slide_type": "slide"
    }
   },
   "source": [
    "### Hypothesis testing and the P-Value (summary)\n",
    "\n",
    "- ❗ We can define different **levels of significance**, at which we are sure enough that our data is different.\n",
    "    - E.g., whether memory performance values are **surprisingly** far away from H0.\n",
    "        - In less than 5% of all cases = Alpha of 5%."
   ]
  },
  {
   "cell_type": "markdown",
   "metadata": {
    "slideshow": {
     "slide_type": "slide"
    }
   },
   "source": [
    "### Hypothesis testing and the P-Value (summary)\n",
    "\n",
    "- ❗ We can compute the probability for an observation to be more extreme than a certain value based on H0, i.e., the **P-value**.\n",
    "- Usually, if the P-value is smaller than the defined significance level, we reject H0.\n",
    "    - ❗ But careful, the **P-value** does not tell me how probable H0 actually is. It just tells me, how probable a value just as mine would be, in a world were there is actually no effect.\n",
    "   - In fact, there is a chance that our data is actually from H0. For alpha = 0.05, then probability is 5%."
   ]
  },
  {
   "cell_type": "markdown",
   "metadata": {
    "slideshow": {
     "slide_type": "slide"
    }
   },
   "source": [
    "### Questions?"
   ]
  }
 ],
 "metadata": {
  "celltoolbar": "Slideshow",
  "kernelspec": {
   "display_name": "Python 3",
   "language": "python",
   "name": "python3"
  },
  "language_info": {
   "codemirror_mode": {
    "name": "ipython",
    "version": 3
   },
   "file_extension": ".py",
   "mimetype": "text/x-python",
   "name": "python",
   "nbconvert_exporter": "python",
   "pygments_lexer": "ipython3",
   "version": "3.7.9"
  }
 },
 "nbformat": 4,
 "nbformat_minor": 4
}
